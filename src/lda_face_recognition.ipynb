{
 "cells": [
  {
   "cell_type": "code",
   "execution_count": 1,
   "metadata": {},
   "outputs": [],
   "source": [
    "import numpy as np\n",
    "from matplotlib import pyplot as plt\n",
    "from PIL import Image\n",
    "from matplotlib import image\n",
    "import os"
   ]
  },
  {
   "cell_type": "code",
   "execution_count": 2,
   "metadata": {},
   "outputs": [],
   "source": [
    "# load images of size 112,92 \n",
    "\n",
    "train_image_load = []\n",
    "test_image_load = []\n",
    "\n",
    "total_person = 40\n",
    "train_size = 6\n",
    "test_size = 4\n",
    "\n",
    "# tracks train set and test set\n",
    "\n",
    "for i in range(1,total_person+1):\n",
    "    j = 1\n",
    "    arr = os.listdir('s'+str(i)+'/')\n",
    "    for _ in arr:\n",
    "        if(j <= train_size):\n",
    "            train_image_load.append((image.imread('s'+str(i)+'/'+_)).flatten())\n",
    "        else:\n",
    "            test_image_load.append((image.imread('s'+str(i)+'/'+_)).flatten())\n",
    "        j+=1"
   ]
  },
  {
   "cell_type": "code",
   "execution_count": 3,
   "metadata": {},
   "outputs": [],
   "source": [
    "def mean_face(Face):\n",
    "    mn,p = Face.shape\n",
    "    M = np.zeros((mn,1))\n",
    "    for i in range(mn):\n",
    "        for j in range(p):\n",
    "            M[i] += Face[i][j]\n",
    "        M[i] /= p\n",
    "    return M"
   ]
  },
  {
   "cell_type": "code",
   "execution_count": 4,
   "metadata": {},
   "outputs": [],
   "source": [
    "def surrogate_cov(X):\n",
    "# Returns covariance of X\n",
    "    rows,cols = X.shape \n",
    "    cov = np.zeros((cols,cols))\n",
    "     \n",
    "    # Covariances        \n",
    "    for z in range(cols):\n",
    "        for y in range(cols):\n",
    "                cov[z][y] = np.dot(X[:,y].T,X[:,z])/rows                \n",
    "    return cov "
   ]
  },
  {
   "cell_type": "code",
   "execution_count": 5,
   "metadata": {},
   "outputs": [],
   "source": [
    "def sub(X,M):\n",
    "# Subtracts M from X row wise    \n",
    "\n",
    "    res = X\n",
    "    n,c = X.shape\n",
    "    \n",
    "    for i in range(n):\n",
    "        for j in range(c):\n",
    "            res[i][j] = res[i][j] - M[i]\n",
    "    \n",
    "    return res\n",
    "    "
   ]
  },
  {
   "cell_type": "markdown",
   "metadata": {},
   "source": [
    "## Training Phase"
   ]
  },
  {
   "cell_type": "markdown",
   "metadata": {},
   "source": [
    "### Step 1 Apply PCA"
   ]
  },
  {
   "cell_type": "code",
   "execution_count": 6,
   "metadata": {},
   "outputs": [],
   "source": [
    "\n",
    "# generate face dataset (mn*p)\n",
    "# 60% for training (6 images/folder)\n",
    "Face_Db = np.array(train_image_load).T  \n",
    "mn,p = Face_Db.shape\n",
    "\n",
    "# calculate mean (mn*1)\n",
    "M = mean_face(Face_Db)\n",
    "\n",
    "# mean 0\n",
    "delta = np.zeros((Face_Db.shape))\n",
    "for i in range(mn):\n",
    "    for j in range(p):\n",
    "        delta[i][j] = Face_Db[i][j] - M[i]\n",
    "        \n",
    "# surrogate covariance calculation\n",
    "cov = surrogate_cov(delta)   \n",
    "\n",
    "# step 5 eigen values and eigen vectors (sorted decreasing order) of cov\n",
    "eigenValues, eigenVectors = np.linalg.eig(cov)\n",
    "idx = eigenValues.argsort()[::-1]   \n",
    "eig_val = eigenValues[idx]\n",
    "eig_vec = eigenVectors[:,idx]\n",
    "\n",
    "# setting k\n",
    "k = 100\n",
    "\n",
    "# Psi  Feature Vector\n",
    "psi = eig_vec[:,0:k]\n",
    "\n",
    "# Generate Eigen Faces\n",
    "phi = np.dot(psi.T,delta.T)\n",
    "\n",
    "# signature\n",
    "PF = np.dot(phi,delta)"
   ]
  },
  {
   "cell_type": "markdown",
   "metadata": {},
   "source": [
    "### Step 2 Divide data into classes"
   ]
  },
  {
   "cell_type": "code",
   "execution_count": 7,
   "metadata": {},
   "outputs": [],
   "source": [
    "n = train_size\n",
    "number_of_classes = p//n"
   ]
  },
  {
   "cell_type": "markdown",
   "metadata": {},
   "source": [
    "### Step 3 Find means of each class and mean of Projected Faces"
   ]
  },
  {
   "cell_type": "code",
   "execution_count": 42,
   "metadata": {},
   "outputs": [],
   "source": [
    "mean_each_class = np.zeros((k,number_of_classes))\n",
    "\n",
    "old = 0\n",
    "new = n\n",
    "PF_c = []\n",
    "for i in range(number_of_classes):\n",
    "    # storing projected faces class wise\n",
    "    PF_c.append(PF[:,old:new])\n",
    "    mean_each_class[:,i] = mean_face(PF[:,old:new]).T\n",
    "    #print(old,\" \",new)\n",
    "    old = new\n",
    "    new = new + n\n",
    "    \n",
    "\n",
    "PF_c = np.array(PF_c)    \n",
    "mean_PF = mean_face(PF)\n",
    "#print(mean_PF)"
   ]
  },
  {
   "cell_type": "code",
   "execution_count": 9,
   "metadata": {},
   "outputs": [
    {
     "data": {
      "text/plain": [
       "(100, 40)"
      ]
     },
     "execution_count": 9,
     "metadata": {},
     "output_type": "execute_result"
    }
   ],
   "source": [
    "mean_each_class.shape"
   ]
  },
  {
   "cell_type": "code",
   "execution_count": 10,
   "metadata": {},
   "outputs": [
    {
     "data": {
      "text/plain": [
       "(100, 1)"
      ]
     },
     "execution_count": 10,
     "metadata": {},
     "output_type": "execute_result"
    }
   ],
   "source": [
    "mean_PF.shape"
   ]
  },
  {
   "cell_type": "markdown",
   "metadata": {},
   "source": [
    "### Step 4: Within Class Scatter Matrix $(SW)_{k*k}$ and Between Class Scatter Matrix $(SB)_{k*k}$"
   ]
  },
  {
   "cell_type": "code",
   "execution_count": 28,
   "metadata": {},
   "outputs": [
    {
     "data": {
      "text/plain": [
       "(100, 100)"
      ]
     },
     "execution_count": 28,
     "metadata": {},
     "output_type": "execute_result"
    }
   ],
   "source": [
    "# Within Class Scatter Matrix\n",
    "SW = np.zeros((k,k))\n",
    "for i in range(number_of_classes):\n",
    "    V_mu = sub(PF_c[i],mean_each_class[:,i])\n",
    "    SW += (np.dot(V_mu,V_mu.T))\n",
    "    \n",
    "SW.shape\n",
    "#print(SW)"
   ]
  },
  {
   "cell_type": "code",
   "execution_count": 31,
   "metadata": {},
   "outputs": [
    {
     "data": {
      "text/plain": [
       "(100, 100)"
      ]
     },
     "execution_count": 31,
     "metadata": {},
     "output_type": "execute_result"
    }
   ],
   "source": [
    "# Between Class Scatter Matrix\n",
    "SB = np.zeros((k,k))\n",
    "for i in range(number_of_classes):\n",
    "    M_i = np.reshape(mean_each_class[:,i],(1,mean_each_class[:,i].size)).T\n",
    "    SB += (np.dot(sub(M_i,mean_PF),M_i.T))\n",
    "\n",
    "SB.shape\n",
    "#print(SB)\n",
    "    "
   ]
  },
  {
   "cell_type": "markdown",
   "metadata": {},
   "source": [
    "### Step 5: Criterion Function (J)"
   ]
  },
  {
   "cell_type": "code",
   "execution_count": 33,
   "metadata": {},
   "outputs": [
    {
     "data": {
      "text/plain": [
       "(100, 100)"
      ]
     },
     "execution_count": 33,
     "metadata": {},
     "output_type": "execute_result"
    }
   ],
   "source": [
    "J = (np.dot(np.linalg.inv(SW),SB))\n",
    "J.shape\n",
    "#print(J)"
   ]
  },
  {
   "cell_type": "markdown",
   "metadata": {},
   "source": [
    "### Step 6: Eigen Vector and Values of Criterion Function"
   ]
  },
  {
   "cell_type": "code",
   "execution_count": 14,
   "metadata": {},
   "outputs": [
    {
     "data": {
      "text/plain": [
       "(100, 100)"
      ]
     },
     "execution_count": 14,
     "metadata": {},
     "output_type": "execute_result"
    }
   ],
   "source": [
    "J_eigenValues, J_eigenVectors = np.linalg.eig(J)\n",
    "idx = J_eigenValues.argsort()[::-1]   \n",
    "J_eigenValues = J_eigenValues[idx]\n",
    "J_ev = J_eigenVectors[:,idx]\n",
    "\n",
    "J_ev.shape"
   ]
  },
  {
   "cell_type": "markdown",
   "metadata": {},
   "source": [
    "### Step 7: Best Principle Component"
   ]
  },
  {
   "cell_type": "code",
   "execution_count": 15,
   "metadata": {},
   "outputs": [],
   "source": [
    "# setting m\n",
    "m = 100"
   ]
  },
  {
   "cell_type": "markdown",
   "metadata": {},
   "source": [
    "### Step 8: Feature$(W)_{k*m}$"
   ]
  },
  {
   "cell_type": "code",
   "execution_count": 16,
   "metadata": {},
   "outputs": [
    {
     "data": {
      "text/plain": [
       "(100, 100)"
      ]
     },
     "execution_count": 16,
     "metadata": {},
     "output_type": "execute_result"
    }
   ],
   "source": [
    "W = J_ev[:,0:m]\n",
    "W.shape"
   ]
  },
  {
   "cell_type": "markdown",
   "metadata": {},
   "source": [
    "### Step 9: Fisher Faces (FF) "
   ]
  },
  {
   "cell_type": "code",
   "execution_count": 35,
   "metadata": {},
   "outputs": [
    {
     "data": {
      "text/plain": [
       "(100, 240)"
      ]
     },
     "execution_count": 35,
     "metadata": {},
     "output_type": "execute_result"
    }
   ],
   "source": [
    "FF = np.dot(W.T,PF)\n",
    "FF.shape\n",
    "#print(FF)"
   ]
  },
  {
   "cell_type": "code",
   "execution_count": 18,
   "metadata": {},
   "outputs": [],
   "source": [
    "def accuracy_rate(X,Y):\n",
    "    count = 0\n",
    "    for i in range(len(X)):\n",
    "        if(X[i] == Y[i]):\n",
    "            count = count + 1\n",
    "    return (count/len(X))*100"
   ]
  },
  {
   "cell_type": "code",
   "execution_count": 19,
   "metadata": {},
   "outputs": [],
   "source": [
    "def euclidean_distance(p1,p2):\n",
    "    distance = pow(sum([(a - b) ** 2 for a, b in zip(p1, p2)]),0.5)\n",
    "    return distance"
   ]
  },
  {
   "cell_type": "code",
   "execution_count": 46,
   "metadata": {},
   "outputs": [],
   "source": [
    "def mahalanobis_distance(p1,p2,X):\n",
    "    \n",
    "    distance = np.dot(np.dot((p1-p2),np.linalg.inv(surrogate_cov(X))),(p1-p2).T)\n",
    "    return distance"
   ]
  },
  {
   "cell_type": "markdown",
   "metadata": {},
   "source": [
    "## Testing Phase"
   ]
  },
  {
   "cell_type": "code",
   "execution_count": 20,
   "metadata": {},
   "outputs": [],
   "source": [
    "test_Db = np.array(test_image_load).T  \n",
    "mn,q = test_Db.shape"
   ]
  },
  {
   "cell_type": "markdown",
   "metadata": {},
   "source": [
    "### Step 2: Mean Zero"
   ]
  },
  {
   "cell_type": "code",
   "execution_count": 21,
   "metadata": {},
   "outputs": [
    {
     "data": {
      "text/plain": [
       "(10304, 160)"
      ]
     },
     "execution_count": 21,
     "metadata": {},
     "output_type": "execute_result"
    }
   ],
   "source": [
    "M_t = np.zeros((mn,q))\n",
    "for i in range(q):\n",
    "    M_t[:,i] = np.subtract(test_Db[:,i],np.mean(test_Db[:,i]))\n",
    "M_t.shape"
   ]
  },
  {
   "cell_type": "markdown",
   "metadata": {},
   "source": [
    "### Step 3: Projected Eigen Faces"
   ]
  },
  {
   "cell_type": "code",
   "execution_count": 37,
   "metadata": {},
   "outputs": [
    {
     "data": {
      "text/plain": [
       "(100, 160)"
      ]
     },
     "execution_count": 37,
     "metadata": {},
     "output_type": "execute_result"
    }
   ],
   "source": [
    "EF = phi\n",
    "PEF = np.dot(EF,M_t)\n",
    "PEF.shape\n",
    "#print(PEF)"
   ]
  },
  {
   "cell_type": "markdown",
   "metadata": {},
   "source": [
    "### Step 4: Projected Fisher Test Image"
   ]
  },
  {
   "cell_type": "code",
   "execution_count": 39,
   "metadata": {},
   "outputs": [
    {
     "data": {
      "text/plain": [
       "(100, 160)"
      ]
     },
     "execution_count": 39,
     "metadata": {},
     "output_type": "execute_result"
    }
   ],
   "source": [
    "Projected_Fisher_Test_Img = np.dot(W.T,PEF)\n",
    "Projected_Fisher_Test_Img.shape\n",
    "#print(Projected_Fisher_Test_Img)"
   ]
  },
  {
   "cell_type": "markdown",
   "metadata": {},
   "source": [
    "### Step 5: Classification"
   ]
  },
  {
   "cell_type": "code",
   "execution_count": 24,
   "metadata": {},
   "outputs": [],
   "source": [
    "# true labels\n",
    "trueLabels = np.arange(0,test_size*total_person)\n",
    "trueLabels = (trueLabels//test_size)\n",
    "\n",
    "accuracy_curve = []\n",
    "\n",
    "PFTI_T = Projected_Fisher_Test_Img.T\n",
    "FF_T = FF.T\n",
    "\n",
    "for m in range(1,101):\n",
    "\n",
    "    # minimum distance\n",
    "    min_dist = 999999999\n",
    "\n",
    "    distances = [0]*q\n",
    "    classes = [0]*q\n",
    "\n",
    "    i = 0\n",
    "    for sign_test in PFTI_T:\n",
    "        j = 0\n",
    "        for sign_train in FF_T:\n",
    "            dist = euclidean_distance(sign_test[0:m],sign_train[0:m])\n",
    "            if(dist < min_dist):\n",
    "                min_dist = dist\n",
    "                label = j\n",
    "            j+=1\n",
    "\n",
    "        distances[i] = min_dist\n",
    "        classes[i] = (label//train_size) # each person testset contains 4 images\n",
    "        i+=1\n",
    "        min_dist = 99999999\n",
    "\n",
    "    accuracy = accuracy_rate(trueLabels,classes)\n",
    "    accuracy_curve.append(accuracy)\n",
    "    \n",
    "   "
   ]
  },
  {
   "cell_type": "code",
   "execution_count": null,
   "metadata": {},
   "outputs": [],
   "source": [
    "# plt.plot(np.arange(1,101), accuracy_curve, color =\"red\")  \n",
    "plt.title(\"Accuracy Curve\")  \n",
    "plt.xlabel(\"m\")  \n",
    "plt.ylabel(\"Accuracy Percentage\") \n",
    "plt.show()"
   ]
  },
  {
   "cell_type": "code",
   "execution_count": null,
   "metadata": {},
   "outputs": [
    {
     "name": "stderr",
     "output_type": "stream",
     "text": [
      "<ipython-input-4-bc9d3867f7ef>:9: ComplexWarning: Casting complex values to real discards the imaginary part\n",
      "  cov[z][y] = np.dot(X[:,y].T,X[:,z])/rows\n"
     ]
    }
   ],
   "source": [
    "# true labels\n",
    "trueLabels = np.arange(0,test_size*total_person)\n",
    "trueLabels = (trueLabels//test_size)\n",
    "\n",
    "accuracy_curve = []\n",
    "\n",
    "PFTI_T = Projected_Fisher_Test_Img.T\n",
    "FF_T = FF.T\n",
    "\n",
    "for m in range(1,101):\n",
    "\n",
    "    # minimum distance\n",
    "    min_dist = 999999999\n",
    "\n",
    "    distances = [0]*q\n",
    "    classes = [0]*q\n",
    "\n",
    "    i = 0\n",
    "    for sign_test in PFTI_T:\n",
    "        j = 0\n",
    "        for sign_train in FF_T:\n",
    "            dist = mahalanobis_distance(sign_test[0:m],sign_train[0:m],FF[:,0:m])\n",
    "            if(dist < min_dist):\n",
    "                min_dist = dist\n",
    "                label = j\n",
    "            j+=1\n",
    "\n",
    "        distances[i] = min_dist\n",
    "        classes[i] = (label//train_size) # each person testset contains 4 images\n",
    "        i+=1\n",
    "        min_dist = 99999999\n",
    "\n",
    "    accuracy = accuracy_rate(trueLabels,classes)\n",
    "    accuracy_curve.append(accuracy)\n",
    "    \n",
    "   "
   ]
  },
  {
   "cell_type": "code",
   "execution_count": null,
   "metadata": {},
   "outputs": [],
   "source": [
    "plt.plot(np.arange(1,101), accuracy_curve, color =\"red\")  \n",
    "plt.title(\"Accuracy Curve\")  \n",
    "plt.xlabel(\"m\")  \n",
    "plt.ylabel(\"Accuracy Percentage\") \n",
    "plt.show()"
   ]
  },
  {
   "cell_type": "code",
   "execution_count": null,
   "metadata": {},
   "outputs": [],
   "source": []
  }
 ],
 "metadata": {
  "kernelspec": {
   "display_name": "Python 3",
   "language": "python",
   "name": "python3"
  },
  "language_info": {
   "codemirror_mode": {
    "name": "ipython",
    "version": 3
   },
   "file_extension": ".py",
   "mimetype": "text/x-python",
   "name": "python",
   "nbconvert_exporter": "python",
   "pygments_lexer": "ipython3",
   "version": "3.8.5"
  }
 },
 "nbformat": 4,
 "nbformat_minor": 4
}
