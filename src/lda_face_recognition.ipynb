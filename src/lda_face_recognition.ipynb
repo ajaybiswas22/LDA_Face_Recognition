{
 "cells": [
  {
   "cell_type": "code",
   "execution_count": 1,
   "metadata": {},
   "outputs": [],
   "source": [
    "import numpy as np\n",
    "from matplotlib import pyplot as plt\n",
    "from PIL import Image\n",
    "from matplotlib import image\n",
    "import os"
   ]
  },
  {
   "cell_type": "code",
   "execution_count": 2,
   "metadata": {},
   "outputs": [],
   "source": [
    "# load images of size 112,92 \n",
    "\n",
    "train_image_load = []\n",
    "test_image_load = []\n",
    "\n",
    "total_person = 40\n",
    "train_size = 6\n",
    "test_size = 4\n",
    "\n",
    "# tracks train set and test set\n",
    "\n",
    "for i in range(1,total_person+1):\n",
    "    j = 1\n",
    "    arr = os.listdir('s'+str(i)+'/')\n",
    "    for _ in arr:\n",
    "        if(j <= train_size):\n",
    "            train_image_load.append((image.imread('s'+str(i)+'/'+_)).flatten())\n",
    "        else:\n",
    "            test_image_load.append((image.imread('s'+str(i)+'/'+_)).flatten())\n",
    "        j+=1"
   ]
  },
  {
   "cell_type": "code",
   "execution_count": 3,
   "metadata": {},
   "outputs": [],
   "source": [
    "def mean_face(Face):\n",
    "    mn,p = Face.shape\n",
    "    M = np.zeros((mn,1))\n",
    "    for i in range(mn):\n",
    "        for j in range(p):\n",
    "            M[i] += Face[i][j]\n",
    "        M[i] /= p\n",
    "    return M"
   ]
  },
  {
   "cell_type": "code",
   "execution_count": 4,
   "metadata": {},
   "outputs": [],
   "source": [
    "def surrogate_cov(X):\n",
    "# Returns covariance of X\n",
    "    rows,cols = X.shape \n",
    "    cov = np.zeros((cols,cols))\n",
    "     \n",
    "    # Covariances        \n",
    "    for z in range(cols):\n",
    "        for y in range(cols):\n",
    "                cov[z][y] = np.dot(X[:,y].T,X[:,z])/rows                \n",
    "    return cov "
   ]
  },
  {
   "cell_type": "code",
   "execution_count": 5,
   "metadata": {},
   "outputs": [],
   "source": [
    "def sub(X,M):\n",
    "    res = X\n",
    "    n,c = X.shape\n",
    "    \n",
    "    for i in range(n):\n",
    "        for j in range(c):\n",
    "            res[i][j] = res[i][j] - M[i]\n",
    "    \n",
    "    return res\n",
    "    "
   ]
  },
  {
   "cell_type": "markdown",
   "metadata": {},
   "source": [
    "### Step 1 Apply PCA"
   ]
  },
  {
   "cell_type": "code",
   "execution_count": 6,
   "metadata": {},
   "outputs": [],
   "source": [
    "\n",
    "# step 1 generate face dataset (mn*p)\n",
    "# 60% for training (6 images/folder)\n",
    "Face_Db = np.array(train_image_load).T  \n",
    "mn,p = Face_Db.shape\n",
    "\n",
    "# step 2 calculate mean (mn*1)\n",
    "M = mean_face(Face_Db)\n",
    "\n",
    "# step 3 mean 0\n",
    "delta = np.zeros((Face_Db.shape))\n",
    "for i in range(mn):\n",
    "    for j in range(p):\n",
    "        delta[i][j] = Face_Db[i][j] - M[i]\n",
    "        \n",
    "# step 4 surrogate covariance calculation\n",
    "cov = surrogate_cov(delta)   \n",
    "\n",
    "# step 5 eigen values and eigen vectors (sorted decreasing order) of cov\n",
    "eigenValues, eigenVectors = np.linalg.eig(cov)\n",
    "idx = eigenValues.argsort()[::-1]   \n",
    "eig_val = eigenValues[idx]\n",
    "eig_vec = eigenVectors[:,idx]\n",
    "\n",
    "# setting k\n",
    "k = 5\n",
    "\n",
    "# Psi\n",
    "psi = eig_vec[:,0:k]\n",
    "\n",
    "# step 7 Generate Eigen Faces\n",
    "phi = np.dot(psi.T,delta.T)\n",
    "\n",
    "PF = np.dot(phi,delta)\n"
   ]
  },
  {
   "cell_type": "markdown",
   "metadata": {},
   "source": [
    "### Step 2 Divide data into classes"
   ]
  },
  {
   "cell_type": "code",
   "execution_count": 7,
   "metadata": {},
   "outputs": [],
   "source": [
    "n = train_size\n",
    "number_of_classes = p//n"
   ]
  },
  {
   "cell_type": "markdown",
   "metadata": {},
   "source": [
    "### Step 3 Find means of each class and mean of Projected Faces"
   ]
  },
  {
   "cell_type": "code",
   "execution_count": 8,
   "metadata": {},
   "outputs": [],
   "source": [
    "mean_each_class = np.zeros((k,number_of_classes))\n",
    "\n",
    "old = 0\n",
    "new = n\n",
    "PF_c = []\n",
    "for i in range(number_of_classes):\n",
    "    # storing projected faces class wise\n",
    "    PF_c.append(PF[:,old:new])\n",
    "    mean_each_class[:,i] = mean_face(PF[:,old:new]).T\n",
    "    old = new\n",
    "    new = new + n\n",
    "\n",
    "PF_c = np.array(PF_c)    \n",
    "mean_PF = mean_face(PF)"
   ]
  },
  {
   "cell_type": "code",
   "execution_count": 9,
   "metadata": {},
   "outputs": [
    {
     "data": {
      "text/plain": [
       "(5, 40)"
      ]
     },
     "execution_count": 9,
     "metadata": {},
     "output_type": "execute_result"
    }
   ],
   "source": [
    "mean_each_class.shape"
   ]
  },
  {
   "cell_type": "code",
   "execution_count": 10,
   "metadata": {},
   "outputs": [
    {
     "data": {
      "text/plain": [
       "(5, 1)"
      ]
     },
     "execution_count": 10,
     "metadata": {},
     "output_type": "execute_result"
    }
   ],
   "source": [
    "mean_PF.shape"
   ]
  },
  {
   "cell_type": "markdown",
   "metadata": {},
   "source": [
    "### Step 4: Within Class Scatter Matrix and Between Class Scatter Matrix"
   ]
  },
  {
   "cell_type": "code",
   "execution_count": 11,
   "metadata": {},
   "outputs": [
    {
     "data": {
      "text/plain": [
       "(5, 5)"
      ]
     },
     "execution_count": 11,
     "metadata": {},
     "output_type": "execute_result"
    }
   ],
   "source": [
    "# Within Class Scatter Matrix\n",
    "SW = np.zeros((k,k))\n",
    "for i in range(number_of_classes):\n",
    "    V_mu = sub(PF_c[i],mean_each_class[:,i])\n",
    "    SW += (np.dot(V_mu,V_mu.T))\n",
    "    \n",
    "SW.shape"
   ]
  },
  {
   "cell_type": "code",
   "execution_count": 12,
   "metadata": {},
   "outputs": [
    {
     "data": {
      "text/plain": [
       "(5, 5)"
      ]
     },
     "execution_count": 12,
     "metadata": {},
     "output_type": "execute_result"
    }
   ],
   "source": [
    "# Between Class Scatter Matrix\n",
    "SB = np.zeros((k,k))\n",
    "for i in range(number_of_classes):\n",
    "    M_i = np.reshape(mean_each_class[:,i],(1,mean_each_class[:,i].size)).T\n",
    "    SB += (np.dot(sub(M_i,mean_PF),M_i.T))\n",
    "\n",
    "SB.shape\n",
    "    "
   ]
  },
  {
   "cell_type": "markdown",
   "metadata": {},
   "source": [
    "### Step 5: Criterion Function"
   ]
  },
  {
   "cell_type": "code",
   "execution_count": 14,
   "metadata": {},
   "outputs": [
    {
     "data": {
      "text/plain": [
       "(5, 5)"
      ]
     },
     "execution_count": 14,
     "metadata": {},
     "output_type": "execute_result"
    }
   ],
   "source": [
    "J = (np.dot(np.linalg.inv(SW),SB))\n",
    "J.shape"
   ]
  },
  {
   "cell_type": "markdown",
   "metadata": {},
   "source": [
    "### Step 6: Eigen Vector and Values of Criterion Function"
   ]
  },
  {
   "cell_type": "code",
   "execution_count": 16,
   "metadata": {},
   "outputs": [
    {
     "data": {
      "text/plain": [
       "(5, 5)"
      ]
     },
     "execution_count": 16,
     "metadata": {},
     "output_type": "execute_result"
    }
   ],
   "source": [
    "J_eigenValues, J_eigenVectors = np.linalg.eig(J)\n",
    "idx = J_eigenValues.argsort()[::-1]   \n",
    "J_eigenValues = J_eigenValues[idx]\n",
    "J_ev = J_eigenVectors[:,idx]\n",
    "\n",
    "J_ev.shape"
   ]
  },
  {
   "cell_type": "markdown",
   "metadata": {},
   "source": [
    "### Step 7: Best Principle Component"
   ]
  },
  {
   "cell_type": "code",
   "execution_count": 17,
   "metadata": {},
   "outputs": [],
   "source": [
    "m = 2"
   ]
  },
  {
   "cell_type": "markdown",
   "metadata": {},
   "source": [
    "### Step 8: Feature$(W)_{k*m}$"
   ]
  },
  {
   "cell_type": "code",
   "execution_count": 18,
   "metadata": {},
   "outputs": [
    {
     "data": {
      "text/plain": [
       "(5, 2)"
      ]
     },
     "execution_count": 18,
     "metadata": {},
     "output_type": "execute_result"
    }
   ],
   "source": [
    "W = J_ev[:,0:m]\n",
    "W.shape"
   ]
  },
  {
   "cell_type": "markdown",
   "metadata": {},
   "source": [
    "### Step 9: Fisher Faces (FF) "
   ]
  },
  {
   "cell_type": "code",
   "execution_count": 20,
   "metadata": {},
   "outputs": [
    {
     "data": {
      "text/plain": [
       "(2, 240)"
      ]
     },
     "execution_count": 20,
     "metadata": {},
     "output_type": "execute_result"
    }
   ],
   "source": [
    "FF = np.dot(W.T,PF)\n",
    "FF.shape"
   ]
  },
  {
   "cell_type": "code",
   "execution_count": null,
   "metadata": {},
   "outputs": [],
   "source": []
  }
 ],
 "metadata": {
  "kernelspec": {
   "display_name": "Python 3",
   "language": "python",
   "name": "python3"
  },
  "language_info": {
   "codemirror_mode": {
    "name": "ipython",
    "version": 3
   },
   "file_extension": ".py",
   "mimetype": "text/x-python",
   "name": "python",
   "nbconvert_exporter": "python",
   "pygments_lexer": "ipython3",
   "version": "3.8.5"
  }
 },
 "nbformat": 4,
 "nbformat_minor": 4
}
